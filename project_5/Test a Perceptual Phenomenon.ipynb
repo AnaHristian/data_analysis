{
 "cells": [
  {
   "cell_type": "markdown",
   "metadata": {},
   "source": [
    "### Analyzing the Stroop Effect\n",
    "Perform the analysis in the space below. Remember to follow [the instructions](https://docs.google.com/document/d/1-OkpZLjG_kX9J6LIQ5IltsqMzVWjh36QpnP2RYpVdPU/pub?embedded=True) and review the [project rubric](https://review.udacity.com/#!/rubrics/71/view) before submitting. Once you've completed the analysis and write-up, download this file as a PDF or HTML file, upload that PDF/HTML into the workspace here (click on the orange Jupyter icon in the upper left then Upload), then use the Submit Project button at the bottom of this page. This will create a zip file containing both this .ipynb doc and the PDF/HTML doc that will be submitted for your project.\n",
    "\n",
    "\n",
    "(1) What is the independent variable? What is the dependent variable?"
   ]
  },
  {
   "cell_type": "markdown",
   "metadata": {},
   "source": [
    "In an experiment, the researcher manipulates the **independent variable**, measures changes in the **dependant variable** and seeks to control the **lurking variable**. In this particular experiment, the researcher manipulates the color of the word or the *color of the ink* in which the word is printed and measures changes in time from the two conditions: the congruent words condition and the incongruent words condition.\n",
    "\n",
    "* The **independent variable** is the color of the word or the *color of the ink* in which the word is printed. \n",
    "* The **dependent variable** is the time it takes the participant to name the ink colors."
   ]
  },
  {
   "cell_type": "markdown",
   "metadata": {},
   "source": [
    "(2) What is an appropriate set of hypotheses for this task? Specify your null and alternative hypotheses, and clearly define any notation used. Justify your choices."
   ]
  },
  {
   "cell_type": "markdown",
   "metadata": {},
   "source": [
    "The same participant is measured twice and our data is presented as pairs of observations for the two conditions: the congruent and incongruent condition. We measure changes in average time between the two data points, for each participant and assess if there are statistically different. Therefore, we check if the average time for naming the word under the incongruent condition is statistically different than the average time for naming the color of the word under the congruent condition. We can state our hypotheses in terms of differences of means of time reaction. \n",
    "\n",
    "In order to assess if there is a difference in average times between the two conditions  I will use the **bootstrapping approach to simulate the results of a traditional hypothesis test**: \n",
    "1. Calculate our observed difference in means.\n",
    "2. Simulate 10.000 samples of means for the congruent condition and 10.000 samples of means for the incongruent condition and their respective differences. \n",
    "3. Build the 95% confidence interval in order to see where our observed difference falls on the sampling distribution for difference in means.\n",
    "3. Simulate under the null hypothesis, if the sampling distribution of the difference in means were centered at zero.\n",
    "4. Visualize the two sampling distributions and see that they are different.\n",
    "5. Calculate the p-value to make a decision about the null and alternative hypotheses at an alpha level of 0.05 and we reject the null in favor of the alternative. This suggests that there is a difference in average time reaction. Actually, under incongruent condition the participant needs more time to finish the task.\n",
    "\n",
    "We are interested if the average time for incongruent condition is the same than under congruent condition. There is no question associated with a direction. Therefore this is a two-tailed test, we check in either of the two directions.\n",
    "\n",
    "$H_0$: Changing the color of the words did not change the time it takes the participant to name the ink colors. \n",
    "\n",
    "$H_1$:  Changing the color of the words did change the time it takes the participant to name the ink colors. \n",
    "\n",
    "$$H_0: \\mu_{incongruent} - \\mu_{congruent} = 0$$\n",
    "$$H_1: \\mu_{incongruent} - \\mu_{congruent} \\neq 0$$\n",
    "\n",
    "**$\\mu_{incongruent}$ and $\\mu_{congruent}$ are the population mean values for congruent condition and incongruent condition, respectively.**\n",
    "\n",
    "A statistical test used for this situation is a dependant paired, sample for mean T-Test. This is used to find out if the mean differences for two sets of data points is zero."
   ]
  },
  {
   "cell_type": "markdown",
   "metadata": {},
   "source": [
    "(3) Report some descriptive statistics regarding this dataset. Include at least one measure of central tendency and at least one measure of variability. The name of the data file is 'stroopdata.csv'."
   ]
  },
  {
   "cell_type": "code",
   "execution_count": 1,
   "metadata": {},
   "outputs": [],
   "source": [
    "import numpy as np\n",
    "import pandas as pd\n",
    "import matplotlib.pyplot as plt\n",
    "\n",
    "%matplotlib inline\n",
    "np.random.seed(42)"
   ]
  },
  {
   "cell_type": "code",
   "execution_count": 2,
   "metadata": {},
   "outputs": [
    {
     "data": {
      "text/html": [
       "<div>\n",
       "<style scoped>\n",
       "    .dataframe tbody tr th:only-of-type {\n",
       "        vertical-align: middle;\n",
       "    }\n",
       "\n",
       "    .dataframe tbody tr th {\n",
       "        vertical-align: top;\n",
       "    }\n",
       "\n",
       "    .dataframe thead th {\n",
       "        text-align: right;\n",
       "    }\n",
       "</style>\n",
       "<table border=\"1\" class=\"dataframe\">\n",
       "  <thead>\n",
       "    <tr style=\"text-align: right;\">\n",
       "      <th></th>\n",
       "      <th>Congruent</th>\n",
       "      <th>Incongruent</th>\n",
       "    </tr>\n",
       "  </thead>\n",
       "  <tbody>\n",
       "    <tr>\n",
       "      <th>0</th>\n",
       "      <td>12.079</td>\n",
       "      <td>19.278</td>\n",
       "    </tr>\n",
       "  </tbody>\n",
       "</table>\n",
       "</div>"
      ],
      "text/plain": [
       "   Congruent  Incongruent\n",
       "0     12.079       19.278"
      ]
     },
     "execution_count": 2,
     "metadata": {},
     "output_type": "execute_result"
    }
   ],
   "source": [
    "# read the data\n",
    "df = pd.read_csv('stroopdata.csv')\n",
    "df.head(1)"
   ]
  },
  {
   "cell_type": "code",
   "execution_count": 3,
   "metadata": {},
   "outputs": [
    {
     "data": {
      "text/plain": [
       "(24, 2)"
      ]
     },
     "execution_count": 3,
     "metadata": {},
     "output_type": "execute_result"
    }
   ],
   "source": [
    "# number of rows and columns\n",
    "df.shape"
   ]
  },
  {
   "cell_type": "code",
   "execution_count": 3,
   "metadata": {},
   "outputs": [
    {
     "data": {
      "text/html": [
       "<div>\n",
       "<style scoped>\n",
       "    .dataframe tbody tr th:only-of-type {\n",
       "        vertical-align: middle;\n",
       "    }\n",
       "\n",
       "    .dataframe tbody tr th {\n",
       "        vertical-align: top;\n",
       "    }\n",
       "\n",
       "    .dataframe thead th {\n",
       "        text-align: right;\n",
       "    }\n",
       "</style>\n",
       "<table border=\"1\" class=\"dataframe\">\n",
       "  <thead>\n",
       "    <tr style=\"text-align: right;\">\n",
       "      <th></th>\n",
       "      <th>Congruent</th>\n",
       "      <th>Incongruent</th>\n",
       "    </tr>\n",
       "  </thead>\n",
       "  <tbody>\n",
       "    <tr>\n",
       "      <th>count</th>\n",
       "      <td>24.000000</td>\n",
       "      <td>24.000000</td>\n",
       "    </tr>\n",
       "    <tr>\n",
       "      <th>mean</th>\n",
       "      <td>14.051125</td>\n",
       "      <td>22.015917</td>\n",
       "    </tr>\n",
       "    <tr>\n",
       "      <th>std</th>\n",
       "      <td>3.559358</td>\n",
       "      <td>4.797057</td>\n",
       "    </tr>\n",
       "    <tr>\n",
       "      <th>min</th>\n",
       "      <td>8.630000</td>\n",
       "      <td>15.687000</td>\n",
       "    </tr>\n",
       "    <tr>\n",
       "      <th>25%</th>\n",
       "      <td>11.895250</td>\n",
       "      <td>18.716750</td>\n",
       "    </tr>\n",
       "    <tr>\n",
       "      <th>50%</th>\n",
       "      <td>14.356500</td>\n",
       "      <td>21.017500</td>\n",
       "    </tr>\n",
       "    <tr>\n",
       "      <th>75%</th>\n",
       "      <td>16.200750</td>\n",
       "      <td>24.051500</td>\n",
       "    </tr>\n",
       "    <tr>\n",
       "      <th>max</th>\n",
       "      <td>22.328000</td>\n",
       "      <td>35.255000</td>\n",
       "    </tr>\n",
       "  </tbody>\n",
       "</table>\n",
       "</div>"
      ],
      "text/plain": [
       "       Congruent  Incongruent\n",
       "count  24.000000    24.000000\n",
       "mean   14.051125    22.015917\n",
       "std     3.559358     4.797057\n",
       "min     8.630000    15.687000\n",
       "25%    11.895250    18.716750\n",
       "50%    14.356500    21.017500\n",
       "75%    16.200750    24.051500\n",
       "max    22.328000    35.255000"
      ]
     },
     "execution_count": 3,
     "metadata": {},
     "output_type": "execute_result"
    }
   ],
   "source": [
    "# describe the dataset\n",
    "df.describe()"
   ]
  },
  {
   "cell_type": "markdown",
   "metadata": {},
   "source": [
    "## Measures of centers"
   ]
  },
  {
   "cell_type": "code",
   "execution_count": 4,
   "metadata": {},
   "outputs": [
    {
     "data": {
      "text/plain": [
       "Congruent      14.3565\n",
       "Incongruent    21.0175\n",
       "dtype: float64"
      ]
     },
     "execution_count": 4,
     "metadata": {},
     "output_type": "execute_result"
    }
   ],
   "source": [
    "# get the medians for the sample data\n",
    "df.median()"
   ]
  },
  {
   "cell_type": "code",
   "execution_count": 5,
   "metadata": {},
   "outputs": [
    {
     "data": {
      "text/plain": [
       "Congruent      14.051125\n",
       "Incongruent    22.015917\n",
       "dtype: float64"
      ]
     },
     "execution_count": 5,
     "metadata": {},
     "output_type": "execute_result"
    }
   ],
   "source": [
    "# get the means for the sample data\n",
    "df.mean()"
   ]
  },
  {
   "cell_type": "code",
   "execution_count": 7,
   "metadata": {},
   "outputs": [
    {
     "data": {
      "text/plain": [
       "7.964791666666667"
      ]
     },
     "execution_count": 7,
     "metadata": {},
     "output_type": "execute_result"
    }
   ],
   "source": [
    "df['Incongruent'].mean() - df['Congruent'].mean()"
   ]
  },
  {
   "cell_type": "markdown",
   "metadata": {},
   "source": [
    "We can see that the average time for completing the task under congruent condition is 14.05 seconds, lower than the average time for completing the task under incongruent condition which is 22.02 seconds. Actually, on average, under congruent condition, the participant finish the task in 7.96 seconds earlier than under the incongruent condition. Also, the means are approximately equal to the median values for the sample data."
   ]
  },
  {
   "cell_type": "markdown",
   "metadata": {},
   "source": [
    "### Measures of Variability"
   ]
  },
  {
   "cell_type": "code",
   "execution_count": 7,
   "metadata": {},
   "outputs": [
    {
     "data": {
      "text/plain": [
       "Congruent      3.559358\n",
       "Incongruent    4.797057\n",
       "dtype: float64"
      ]
     },
     "execution_count": 7,
     "metadata": {},
     "output_type": "execute_result"
    }
   ],
   "source": [
    "# get the standard deviation for the sample data\n",
    "df.std()"
   ]
  },
  {
   "cell_type": "markdown",
   "metadata": {},
   "source": [
    "The variability of the data is bigger for the incongruent data times with a standard deviation of 4.80 compared to 3.56 for the congruent data times. Therefore, the average distance of each observation from the mean is bigger for the incongruent data."
   ]
  },
  {
   "cell_type": "markdown",
   "metadata": {},
   "source": [
    "(4) Provide one or two visualizations that show the distribution of the sample data. Write one or two sentences noting what you observe about the plot or plots."
   ]
  },
  {
   "cell_type": "code",
   "execution_count": 13,
   "metadata": {},
   "outputs": [
    {
     "data": {
      "image/png": "[encoded data removed]",
      "text/plain": [
       "<Figure size 432x288 with 1 Axes>"
      ]
     },
     "metadata": {
      "needs_background": "light"
     },
     "output_type": "display_data"
    }
   ],
   "source": [
    "# plot the time histograms\n",
    "plt.hist(df['Congruent'], alpha=0.5, label='Congruent Condition')\n",
    "plt.hist(df['Incongruent'], alpha=0.5, label='Incoungruent Condition')\n",
    "\n",
    "plt.title('Distribution of Finish Task Time')\n",
    "plt.xlabel('Seconds')\n",
    "plt.ylabel('Frequency')\n",
    "\n",
    "plt.legend()\n",
    "plt.show;"
   ]
  },
  {
   "cell_type": "markdown",
   "metadata": {},
   "source": [
    "This histogram plots the distribution of finish time under congruent and incongruent condition. While the time for completing the task under congruent condition ranges from a minimum 8.63 to a maximum of around 22.32 seconds and 50% of the data ranging from 11.89 to 16.20 seconds, we can see that the distribution of time under second condition is more shifted to the right. Data points are ranging from about 15.68 to around 35.25 seconds, with 50% of the data ranging from 18.71 to 24.05 seconds. Furthermore, the average time to complete the task under congruent condition is around 14.05 while the average time under incongruent condition is higher at around 22.01. This suggests that there may be a difference in time between congruent and incongruent condition. In the meantime, we have to notice that the variability for the incongruent condition is bigger, with a Standard Deviation of 4.80, compared to 3.60 for the congruent condition. This may be due to the fact that there are two participants with higher times for completing the task under incongruent condition for about 35 seconds.   "
   ]
  },
  {
   "cell_type": "code",
   "execution_count": 17,
   "metadata": {
    "scrolled": true
   },
   "outputs": [
    {
     "data": {
      "image/png": "[encoded data removed]",
      "text/plain": [
       "<Figure size 432x288 with 1 Axes>"
      ]
     },
     "metadata": {
      "needs_background": "light"
     },
     "output_type": "display_data"
    }
   ],
   "source": [
    "plt.plot(df['Congruent'], alpha=0.5, label='Congruent Condition')\n",
    "plt.plot(df['Incongruent'], alpha=0.5, label='Incongruent Condition')\n",
    "\n",
    "plt.title('Finish Task Time Area Chart')\n",
    "plt.xlabel('Number of Participants')\n",
    "plt.ylabel('Seconds')\n",
    "\n",
    "plt.legend()\n",
    "plt.show;"
   ]
  },
  {
   "cell_type": "markdown",
   "metadata": {},
   "source": [
    "We can see from the above area chart that the time to complete the task under congruent condition took the participants less time than under incongruent condition."
   ]
  },
  {
   "cell_type": "code",
   "execution_count": 19,
   "metadata": {},
   "outputs": [
    {
     "data": {
      "text/plain": [
       "0.35"
      ]
     },
     "execution_count": 19,
     "metadata": {},
     "output_type": "execute_result"
    }
   ],
   "source": [
    "corr = np.round(df['Congruent'].corr(df['Incongruent']), decimals=2)\n",
    "corr"
   ]
  },
  {
   "cell_type": "code",
   "execution_count": 21,
   "metadata": {},
   "outputs": [
    {
     "data": {
      "image/png": "[encoded data removed]",
      "text/plain": [
       "<Figure size 432x288 with 1 Axes>"
      ]
     },
     "metadata": {
      "needs_background": "light"
     },
     "output_type": "display_data"
    }
   ],
   "source": [
    "plt.plot(df['Congruent'], 'bo', alpha=0.5, label='Congruent Condition')\n",
    "plt.plot(df['Incongruent'], 'ro', alpha=0.5, label='Incoungruent Condition')\n",
    "plt.title('Finish Task Time Scatterplot \\n with a Correlation Coefficient of {}'.format(corr))\n",
    "plt.xlabel('Number of Participants')\n",
    "plt.ylabel('Time')\n",
    "\n",
    "plt.legend()\n",
    "plt.show()"
   ]
  },
  {
   "cell_type": "markdown",
   "metadata": {},
   "source": [
    "With a correlation coefficient of `0.35`, this scatter plot shows there is not a linear relationship between time to complete the task under congruent and incongruent group. This means that if one participant scores good at finishing the task under congruent condition, it doesn't have and effect of scoring good or bad under incongruent condition."
   ]
  },
  {
   "cell_type": "markdown",
   "metadata": {},
   "source": [
    "(5)  Now, perform the statistical test and report your results. What is your confidence level or Type I error associated with your test? What is your conclusion regarding the hypotheses you set up? Did the results match up with your expectations? **Hint:**  Think about what is being measured on each individual, and what statistic best captures how an individual reacts in each environment."
   ]
  },
  {
   "cell_type": "markdown",
   "metadata": {},
   "source": [
    "### What is the difference in time means under congruent and incongruent condition? Is there evidence of a difference in average time reaction?"
   ]
  },
  {
   "cell_type": "markdown",
   "metadata": {},
   "source": [
    "### #1 Bootstrap from the sample to build a confidence interval"
   ]
  },
  {
   "cell_type": "code",
   "execution_count": 23,
   "metadata": {},
   "outputs": [
    {
     "data": {
      "text/plain": [
       "Congruent      14.051125\n",
       "Incongruent    22.015917\n",
       "dtype: float64"
      ]
     },
     "execution_count": 23,
     "metadata": {},
     "output_type": "execute_result"
    }
   ],
   "source": [
    "# average times\n",
    "df.mean()"
   ]
  },
  {
   "cell_type": "code",
   "execution_count": 24,
   "metadata": {},
   "outputs": [],
   "source": [
    "df_sample = df.sample(24, replace=True)"
   ]
  },
  {
   "cell_type": "code",
   "execution_count": 25,
   "metadata": {},
   "outputs": [
    {
     "data": {
      "text/plain": [
       "7.383083333333332"
      ]
     },
     "execution_count": 25,
     "metadata": {},
     "output_type": "execute_result"
    }
   ],
   "source": [
    "congruent_mean = df_sample.Congruent.mean()\n",
    "incongruent_mean = df_sample.Incongruent.mean()\n",
    "obs_diff = incongruent_mean - congruent_mean\n",
    "obs_diff"
   ]
  },
  {
   "cell_type": "code",
   "execution_count": 30,
   "metadata": {},
   "outputs": [],
   "source": [
    "# simulate 10.000 mean samples from the congruent data\n",
    "congruent_means = np.random.choice(df.Congruent, size=(10000, 24), replace=True).mean(axis=1)\n",
    "# simulate 10.000 mean samples from the incongruent data\n",
    "incongruent_means = np.random.choice(df.Incongruent, size=(10000, 24), replace=True).mean(axis=1)\n",
    "# calculate the difference in means\n",
    "diffs = incongruent_means - congruent_means"
   ]
  },
  {
   "cell_type": "markdown",
   "metadata": {},
   "source": [
    "#### The standard deviation of the sampling distribution under incongruent condition"
   ]
  },
  {
   "cell_type": "code",
   "execution_count": 31,
   "metadata": {},
   "outputs": [
    {
     "data": {
      "text/plain": [
       "0.9505738007664861"
      ]
     },
     "execution_count": 31,
     "metadata": {},
     "output_type": "execute_result"
    }
   ],
   "source": [
    "np.std(incongruent_means)"
   ]
  },
  {
   "cell_type": "markdown",
   "metadata": {},
   "source": [
    "#### The standard deviation of the sampling distribution under congruent condition"
   ]
  },
  {
   "cell_type": "code",
   "execution_count": 32,
   "metadata": {},
   "outputs": [
    {
     "data": {
      "text/plain": [
       "0.7131459100677735"
      ]
     },
     "execution_count": 32,
     "metadata": {},
     "output_type": "execute_result"
    }
   ],
   "source": [
    "np.std(congruent_means)"
   ]
  },
  {
   "cell_type": "markdown",
   "metadata": {},
   "source": [
    "#### The standard deviation of the sampling distribution for difference in means"
   ]
  },
  {
   "cell_type": "code",
   "execution_count": 33,
   "metadata": {},
   "outputs": [
    {
     "data": {
      "text/plain": [
       "1.1953661711641597"
      ]
     },
     "execution_count": 33,
     "metadata": {},
     "output_type": "execute_result"
    }
   ],
   "source": [
    "np.std(diffs)"
   ]
  },
  {
   "cell_type": "code",
   "execution_count": 34,
   "metadata": {},
   "outputs": [
    {
     "data": {
      "image/png": "[encoded data removed]",
      "text/plain": [
       "<Figure size 432x288 with 1 Axes>"
      ]
     },
     "metadata": {
      "needs_background": "light"
     },
     "output_type": "display_data"
    }
   ],
   "source": [
    "# plot the difference in means\n",
    "plt.hist(diffs);\n",
    "plt.xlabel('Difference in Average Time between Incongruent and Congruent Conditions')\n",
    "plt.ylabel('Frequency')\n",
    "plt.title('Differences in Means Sampling Distribution Histogram')\n",
    "\n",
    "plt.show();"
   ]
  },
  {
   "cell_type": "markdown",
   "metadata": {},
   "source": [
    "This is a normal distribution."
   ]
  },
  {
   "cell_type": "code",
   "execution_count": 36,
   "metadata": {},
   "outputs": [
    {
     "data": {
      "image/png": "[encoded data removed]",
      "text/plain": [
       "<Figure size 432x288 with 1 Axes>"
      ]
     },
     "metadata": {
      "needs_background": "light"
     },
     "output_type": "display_data"
    }
   ],
   "source": [
    "# plot the sampling distributions for congruent_means and incongruent_means\n",
    "plt.hist(congruent_means, alpha = 0.5, label='Congruent Means')\n",
    "plt.hist(incongruent_means, alpha = 0.5, label='Incongruent Means')\n",
    "plt.xlabel('Time')\n",
    "plt.ylabel('Frequency')\n",
    "plt.title('Sampling Distribution for Congruent and Incongruent Means Histograms')\n",
    "\n",
    "plt.legend()\n",
    "plt.show();"
   ]
  },
  {
   "cell_type": "markdown",
   "metadata": {},
   "source": [
    "These are normal distributions."
   ]
  },
  {
   "cell_type": "markdown",
   "metadata": {},
   "source": [
    "### #2 Build 95% Confidence Intervals"
   ]
  },
  {
   "cell_type": "code",
   "execution_count": 48,
   "metadata": {},
   "outputs": [
    {
     "data": {
      "text/plain": [
       "(5.6984166666666685, 10.408094791666667)"
      ]
     },
     "execution_count": 48,
     "metadata": {},
     "output_type": "execute_result"
    }
   ],
   "source": [
    "# build the confidence interval\n",
    "low, upper = np.percentile(diffs, 2.5), np.percentile(diffs, 97.5)\n",
    "low, upper"
   ]
  },
  {
   "cell_type": "code",
   "execution_count": 49,
   "metadata": {},
   "outputs": [
    {
     "data": {
      "image/png": "[encoded data removed]",
      "text/plain": [
       "<Figure size 432x288 with 1 Axes>"
      ]
     },
     "metadata": {
      "needs_background": "light"
     },
     "output_type": "display_data"
    }
   ],
   "source": [
    "# plot the difference in means\n",
    "plt.hist(diffs);\n",
    "\n",
    "# where our observed statistic falls in the sampling distribution\n",
    "plt.axvline(x=obs_diff, color='red', alpha=0.3)\n",
    "plt.axvline(x=low, color='blue', alpha=0.3, linewidth=2);\n",
    "plt.axvline(x=upper, color='blue', alpha=0.3, linewidth=2);\n",
    "\n",
    "plt.title('Histogram of Sampling Distribution for Difference in Means')\n",
    "plt.ylabel('Frequency')\n",
    "plt.xlabel('Difference in Average Time between Incongruent and Congruent Conditions')\n",
    "plt.show();"
   ]
  },
  {
   "cell_type": "markdown",
   "metadata": {},
   "source": [
    "### #3 Conclusion\n",
    "\n",
    "Since a Confidence Interval for the differences in average time under incongruent condition and congruent condition did not contain zero (5.70, 10.41), we have evidence of the mean time under incongruent condition is bigger than under congruent condition. Further, we would suggest that on average, under incongruent condition, the participant finish the task harder than under congruent condition.\n",
    "We can be 95% confident that the difference in the average time under incongruent condition as compared to congruent condition is in the provided interval of 5.70 to 10.41 seconds. "
   ]
  },
  {
   "cell_type": "markdown",
   "metadata": {},
   "source": [
    "### #4 Finding Confidence Interval for a T-test"
   ]
  },
  {
   "cell_type": "code",
   "execution_count": 39,
   "metadata": {},
   "outputs": [
    {
     "data": {
      "text/plain": [
       "(5.504885145169363, 10.424698188163974)"
      ]
     },
     "execution_count": 39,
     "metadata": {},
     "output_type": "execute_result"
    }
   ],
   "source": [
    "import statsmodels.stats.api as sms\n",
    "\n",
    "X1 = df.Incongruent\n",
    "X2 = df.Congruent\n",
    "\n",
    "cm = sms.CompareMeans(sms.DescrStatsW(X1), sms.DescrStatsW(X2))\n",
    "cm.tconfint_diff(usevar='unequal')"
   ]
  },
  {
   "cell_type": "markdown",
   "metadata": {},
   "source": [
    "The results are very similar."
   ]
  },
  {
   "cell_type": "markdown",
   "metadata": {},
   "source": [
    "### #5 Simulate under the Null\n",
    "\n",
    "If the sampling distribution of the difference in means were centered at zero."
   ]
  },
  {
   "cell_type": "code",
   "execution_count": 51,
   "metadata": {},
   "outputs": [],
   "source": [
    "# simulate 10.000 draws from the sampling distribution under the null\n",
    "null_vals = np.random.normal(loc=0, scale=np.std(diffs), size=10000) "
   ]
  },
  {
   "cell_type": "code",
   "execution_count": 52,
   "metadata": {},
   "outputs": [
    {
     "data": {
      "image/png": "[encoded data removed]",
      "text/plain": [
       "<Figure size 432x288 with 1 Axes>"
      ]
     },
     "metadata": {
      "needs_background": "light"
     },
     "output_type": "display_data"
    }
   ],
   "source": [
    "plt.hist(null_vals, alpha=0.5, label='Sampling Distribution of the Difference Under the Null'); \n",
    "plt.hist(diffs, alpha = 0.5, label='Sampling Distribution for Difference in Means');\n",
    "plt.title('Sampling Distributions under the Null and for Difference in Means Histograms')\n",
    "plt.xlabel('Difference in Average Time between Incongruent and Congruent Conditions')\n",
    "plt.ylabel('Frequency')\n",
    "\n",
    "plt.legend()\n",
    "plt.show();"
   ]
  },
  {
   "cell_type": "markdown",
   "metadata": {},
   "source": [
    "$$H_0: \\mu_{incongruent} - \\mu_{congruent} = 0$$\n",
    "$$H_1: \\mu_{incongruent} - \\mu_{congruent} \\neq 0$$"
   ]
  },
  {
   "cell_type": "markdown",
   "metadata": {},
   "source": [
    "#### Calculate the `p-value` to make a decision about the null and alternative hypotheses"
   ]
  },
  {
   "cell_type": "code",
   "execution_count": 53,
   "metadata": {},
   "outputs": [],
   "source": [
    "null_mean = null_vals.mean()"
   ]
  },
  {
   "cell_type": "code",
   "execution_count": 55,
   "metadata": {},
   "outputs": [
    {
     "data": {
      "text/plain": [
       "1.0"
      ]
     },
     "execution_count": 55,
     "metadata": {},
     "output_type": "execute_result"
    }
   ],
   "source": [
    "pval = (null_vals > obs_diff).mean() + (null_mean - (obs_diff - null_mean) < null_vals).mean() \n",
    "pval"
   ]
  },
  {
   "cell_type": "markdown",
   "metadata": {},
   "source": [
    "Let's take a look at where these values fall on the null hypothesis histogram."
   ]
  },
  {
   "cell_type": "code",
   "execution_count": 58,
   "metadata": {},
   "outputs": [
    {
     "data": {
      "image/png": "[encoded data removed]",
      "text/plain": [
       "<Figure size 432x288 with 1 Axes>"
      ]
     },
     "metadata": {
      "needs_background": "light"
     },
     "output_type": "display_data"
    }
   ],
   "source": [
    "low = obs_diff\n",
    "high = null_mean + (null_mean - obs_diff)\n",
    "\n",
    "plt.hist(null_vals)\n",
    "\n",
    "plt.title('Null Hypothesis Histogram')\n",
    "plt.ylabel('Frequency')\n",
    "plt.xlabel('Difference in Average Time (sec)')\n",
    "\n",
    "plt.axvline(x=low, color='r', linewidth=2)\n",
    "plt.axvline(x=high, color='r', linewidth=2);"
   ]
  },
  {
   "cell_type": "markdown",
   "metadata": {},
   "source": [
    "### #6 Conclusion\n",
    "\n",
    "- At an alpha level of 0.05 and a p-value of 1, we have evidence to reject the null in favor of the alternative.\n",
    "- There are no data points from our null hypothesis that fall outside of this region;\n",
    "- We have evidence to suggest that the null hypothesized value did not generate our sample statistic."
   ]
  },
  {
   "cell_type": "markdown",
   "metadata": {},
   "source": [
    "(6) Optional: What do you think is responsible for the effects observed? Can you think of an alternative or similar task that would result in a similar effect? Some research about the problem will be helpful for thinking about these two questions!"
   ]
  }
 ],
 "metadata": {
  "kernelspec": {
   "display_name": "Python 3",
   "language": "python",
   "name": "python3"
  },
  "language_info": {
   "codemirror_mode": {
    "name": "ipython",
    "version": 3
   },
   "file_extension": ".py",
   "mimetype": "text/x-python",
   "name": "python",
   "nbconvert_exporter": "python",
   "pygments_lexer": "ipython3",
   "version": "3.6.7"
  }
 },
 "nbformat": 4,
 "nbformat_minor": 2
}
