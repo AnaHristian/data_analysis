{
 "cells": [
  {
   "cell_type": "code",
   "execution_count": 1,
   "metadata": {},
   "outputs": [],
   "source": [
    "import pandas as pd"
   ]
  },
  {
   "cell_type": "code",
   "execution_count": 2,
   "metadata": {},
   "outputs": [],
   "source": [
    "def icstocsv(icsfilepath):\n",
    "    \"\"\"\n",
    "    takes in an ics file from Facebook friends and returns a csv file\n",
    "    name, birthday\n",
    "    \"\"\"\n",
    "    df = pd.read_csv(icsfilepath, header=None, names=['a'])\n",
    "    \n",
    "    # initialize variables\n",
    "    name = []\n",
    "    bday = []\n",
    "    year = []\n",
    "    month = []\n",
    "    day = []\n",
    "    \n",
    "    # go through data and get the names and birthdays\n",
    "    for text in df.a:\n",
    "        if ('DTSTART' in text):\n",
    "            # split to gate the dtstart\n",
    "            # format the date yyyy-mm-dd\n",
    "            bday.append(text.split(':')[1][:4] + '-' + text.split(':')[1][4:6] + '-' + text.split(':')[1][6:8])\n",
    "            year.append(text.split(':')[1][:4])\n",
    "            month.append(text.split(':')[1][4:6])\n",
    "            day.append(text.split(':')[1][6:8])\n",
    "        elif 'SUMMARY' in text:\n",
    "            # split text at : to get the summary\n",
    "            # split name at ' to get the name\n",
    "            name.append(text.split(':')[1].split(\"'\")[0])\n",
    "    \n",
    "    # dataframe format name, date, year, month, month\n",
    "    bdays = pd.DataFrame({'name': name, 'bday': bday, 'year': year, 'month': month, 'day': day}) \n",
    "    bdays.head()\n",
    "    \n",
    "    # sort dataframe by dates\n",
    "    bdays.sort_values(by=['bday'], inplace=True)\n",
    "    # save file\n",
    "       \n",
    "    return bdays.to_csv('fb_bdays.csv', index=None)"
   ]
  },
  {
   "cell_type": "code",
   "execution_count": 3,
   "metadata": {},
   "outputs": [],
   "source": [
    "# calling the icstocsv will return the fb_bdays csv file \n",
    "icstocsv('birthdays.csv')"
   ]
  },
  {
   "cell_type": "code",
   "execution_count": 5,
   "metadata": {},
   "outputs": [
    {
     "data": {
      "text/html": [
       "<div>\n",
       "<style scoped>\n",
       "    .dataframe tbody tr th:only-of-type {\n",
       "        vertical-align: middle;\n",
       "    }\n",
       "\n",
       "    .dataframe tbody tr th {\n",
       "        vertical-align: top;\n",
       "    }\n",
       "\n",
       "    .dataframe thead th {\n",
       "        text-align: right;\n",
       "    }\n",
       "</style>\n",
       "<table border=\"1\" class=\"dataframe\">\n",
       "  <thead>\n",
       "    <tr style=\"text-align: right;\">\n",
       "      <th></th>\n",
       "      <th>name</th>\n",
       "      <th>bday</th>\n",
       "      <th>year</th>\n",
       "      <th>month</th>\n",
       "      <th>day</th>\n",
       "    </tr>\n",
       "  </thead>\n",
       "  <tbody>\n",
       "    <tr>\n",
       "      <th>0</th>\n",
       "      <td>Mihai-Alexandru Popescu</td>\n",
       "      <td>2019-01-10</td>\n",
       "      <td>2019</td>\n",
       "      <td>1</td>\n",
       "      <td>10</td>\n",
       "    </tr>\n",
       "  </tbody>\n",
       "</table>\n",
       "</div>"
      ],
      "text/plain": [
       "                      name        bday  year  month  day\n",
       "0  Mihai-Alexandru Popescu  2019-01-10  2019      1   10"
      ]
     },
     "execution_count": 5,
     "metadata": {},
     "output_type": "execute_result"
    }
   ],
   "source": [
    "# read the file with pandas\n",
    "bdays = pd.read_csv('fb_bdays.csv')\n",
    "# check the data\n",
    "bdays.head(1)"
   ]
  }
 ],
 "metadata": {
  "kernelspec": {
   "display_name": "Python 3",
   "language": "python",
   "name": "python3"
  },
  "language_info": {
   "codemirror_mode": {
    "name": "ipython",
    "version": 3
   },
   "file_extension": ".py",
   "mimetype": "text/x-python",
   "name": "python",
   "nbconvert_exporter": "python",
   "pygments_lexer": "ipython3",
   "version": "3.6.7"
  }
 },
 "nbformat": 4,
 "nbformat_minor": 2
}
